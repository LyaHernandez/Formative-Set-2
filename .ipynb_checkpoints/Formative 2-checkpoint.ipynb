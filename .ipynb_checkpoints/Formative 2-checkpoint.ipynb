{
 "cells": [
  {
   "cell_type": "code",
   "execution_count": 1,
   "id": "a0dac73e",
   "metadata": {},
   "outputs": [],
   "source": [
    "def shift_letter(letter, shift):\n",
    "    '''Shift Letter.\n",
    "\n",
    "    Shift a letter right by the given number.\n",
    "    Wrap the letter around if it reaches the end of the alphabet.\n",
    "\n",
    "    Examples:\n",
    "    shift_letter(\"A\", 0) -> \"A\"\n",
    "    shift_letter(\"A\", 2) -> \"C\"\n",
    "    shift_letter(\"Z\", 1) -> \"A\"\n",
    "    shift_letter(\"X\", 5) -> \"C\"\n",
    "    shift_letter(\" \", _) -> \" \"\n",
    "\n",
    "    *Note: the single underscore `_` is used to acknowledge the presence\n",
    "        of a value without caring about its contents.\n",
    "\n",
    "    Parameters\n",
    "    ----------\n",
    "    letter: str\n",
    "        a single uppercase English letter, or a space.\n",
    "    shift: int\n",
    "        the number by which to shift the letter.\n",
    "\n",
    "    Returns\n",
    "    -------\n",
    "    str\n",
    "        the letter, shifted appropriately, if a letter.\n",
    "        a single space if the original letter was a space.\n",
    "    '''\n",
    "    # Replace `pass` with your code.\n",
    "    # Stay within the function. Only use the parameters as input. The function should return your answer.\n",
    "    \n",
    "    alphabet_string = \"ABCDEFGHIJKLMNOPQRSTUVWXYZ\"\n",
    "    \n",
    "    if letter == \" \":\n",
    "        return \" \"\n",
    "    else:\n",
    "        new_letter_index = alphabet_string.index(letter) + shift\n",
    "        if new_letter_index > 25:\n",
    "            new_letter_index %= 26\n",
    "        return alphabet_string[new_letter_index]"
   ]
  },
  {
   "cell_type": "code",
   "execution_count": 2,
   "id": "9dcf5893",
   "metadata": {},
   "outputs": [
    {
     "data": {
      "text/plain": [
       "'A'"
      ]
     },
     "execution_count": 2,
     "metadata": {},
     "output_type": "execute_result"
    }
   ],
   "source": [
    "shift_letter(\"A\", 0)"
   ]
  },
  {
   "cell_type": "code",
   "execution_count": 3,
   "id": "99fc79e8",
   "metadata": {},
   "outputs": [
    {
     "data": {
      "text/plain": [
       "'C'"
      ]
     },
     "execution_count": 3,
     "metadata": {},
     "output_type": "execute_result"
    }
   ],
   "source": [
    "shift_letter(\"A\", 2)"
   ]
  },
  {
   "cell_type": "code",
   "execution_count": 4,
   "id": "4432c25d",
   "metadata": {},
   "outputs": [
    {
     "data": {
      "text/plain": [
       "'A'"
      ]
     },
     "execution_count": 4,
     "metadata": {},
     "output_type": "execute_result"
    }
   ],
   "source": [
    "shift_letter(\"Z\", 1)"
   ]
  },
  {
   "cell_type": "code",
   "execution_count": 5,
   "id": "cb57468f",
   "metadata": {},
   "outputs": [
    {
     "data": {
      "text/plain": [
       "'C'"
      ]
     },
     "execution_count": 5,
     "metadata": {},
     "output_type": "execute_result"
    }
   ],
   "source": [
    "shift_letter(\"X\", 5)"
   ]
  },
  {
   "cell_type": "code",
   "execution_count": 6,
   "id": "2eae4f30",
   "metadata": {},
   "outputs": [
    {
     "data": {
      "text/plain": [
       "' '"
      ]
     },
     "execution_count": 6,
     "metadata": {},
     "output_type": "execute_result"
    }
   ],
   "source": [
    "shift_letter(\" \", _)"
   ]
  },
  {
   "cell_type": "code",
   "execution_count": 7,
   "id": "e6462c1e",
   "metadata": {},
   "outputs": [],
   "source": [
    "def caesar_cipher(message, shift):\n",
    "    '''Caesar Cipher.\n",
    "\n",
    "    Apply a shift number to a string of uppercase English letters and spaces.\n",
    "\n",
    "    Parameters\n",
    "    ----------\n",
    "    message: str\n",
    "        a string of uppercase English letters and spaces.\n",
    "    shift: int\n",
    "        the number by which to shift the letters.\n",
    "\n",
    "    Returns\n",
    "    -------\n",
    "    str\n",
    "        the message, shifted appropriately.\n",
    "    '''\n",
    "    # Replace `pass` with your code.\n",
    "    # Stay within the function. Only use the parameters as input. The function should return your answer.\n",
    "    alphabet_string = \"ABCDEFGHIJKLMNOPQRSTUVWXYZ\"\n",
    "    \n",
    "    shifted_message = \"\"\n",
    "    \n",
    "    for letter in message:\n",
    "        if letter == \" \":\n",
    "            shifted_message += \" \"\n",
    "        else:\n",
    "            new_letter_index = alphabet_string.index(letter) + shift\n",
    "            if new_letter_index > 25:\n",
    "                new_letter_index %= 26\n",
    "            shifted_message += alphabet_string[new_letter_index]\n",
    "    \n",
    "    return shifted_message"
   ]
  },
  {
   "cell_type": "code",
   "execution_count": 9,
   "id": "6b5af472",
   "metadata": {},
   "outputs": [
    {
     "data": {
      "text/plain": [
       "'DEF'"
      ]
     },
     "execution_count": 9,
     "metadata": {},
     "output_type": "execute_result"
    }
   ],
   "source": [
    "caesar_cipher(\"ABC \", 3)"
   ]
  },
  {
   "cell_type": "code",
   "execution_count": 10,
   "id": "91f132b5",
   "metadata": {},
   "outputs": [
    {
     "data": {
      "text/plain": [
       "'CNBC'"
      ]
     },
     "execution_count": 10,
     "metadata": {},
     "output_type": "execute_result"
    }
   ],
   "source": [
    "caesar_cipher(\"TEST\", 9)"
   ]
  },
  {
   "cell_type": "code",
   "execution_count": 7,
   "id": "59653c15",
   "metadata": {},
   "outputs": [],
   "source": [
    "def shift_by_letter(letter, letter_shift):\n",
    "    '''Shift By Letter.\n",
    "\n",
    "    Shift a letter to the right using the number equivalent of another letter.\n",
    "    The shift letter is any letter from A to Z, where A represents 0, B represents 1,\n",
    "        ..., Z represents 25.\n",
    "\n",
    "    Examples:\n",
    "    shift_by_letter(\"A\", \"A\") -> \"A\"\n",
    "    shift_by_letter(\"A\", \"C\") -> \"C\"\n",
    "    shift_by_letter(\"B\", \"K\") -> \"L\"\n",
    "    shift_by_letter(\" \", _) -> \" \"\n",
    "\n",
    "    Parameters\n",
    "    ----------\n",
    "    letter: str\n",
    "        a single uppercase English letter, or a space.\n",
    "    letter_shift: str\n",
    "        a single uppercase English letter.\n",
    "\n",
    "    Returns\n",
    "    -------\n",
    "    str\n",
    "        the letter, shifted appropriately.\n",
    "    '''\n",
    "    # Replace `pass` with your code.\n",
    "    # Stay within the function. Only use the parameters as input. The function should return your answer.\n",
    "    \n",
    "    alphabet_string = \"ABCDEFGHIJKLMNOPQRSTUVWXYZ\"\n",
    "    \n",
    "    if letter == \" \":\n",
    "        return \" \"\n",
    "    else:\n",
    "        shift_by = alphabet_string.index(letter_shift)\n",
    "        new_letter_index = alphabet_string.index(letter) + shift_by\n",
    "        if new_letter_index > 25:\n",
    "            new_letter_index %= 26\n",
    "        return alphabet_string[new_letter_index]"
   ]
  },
  {
   "cell_type": "code",
   "execution_count": 8,
   "id": "05584632",
   "metadata": {},
   "outputs": [
    {
     "data": {
      "text/plain": [
       "'A'"
      ]
     },
     "execution_count": 8,
     "metadata": {},
     "output_type": "execute_result"
    }
   ],
   "source": [
    "shift_by_letter(\"A\", \"A\")"
   ]
  },
  {
   "cell_type": "code",
   "execution_count": 9,
   "id": "78873f12",
   "metadata": {},
   "outputs": [
    {
     "data": {
      "text/plain": [
       "'C'"
      ]
     },
     "execution_count": 9,
     "metadata": {},
     "output_type": "execute_result"
    }
   ],
   "source": [
    "shift_by_letter(\"A\", \"C\")"
   ]
  },
  {
   "cell_type": "code",
   "execution_count": 10,
   "id": "670ab158",
   "metadata": {},
   "outputs": [
    {
     "data": {
      "text/plain": [
       "'L'"
      ]
     },
     "execution_count": 10,
     "metadata": {},
     "output_type": "execute_result"
    }
   ],
   "source": [
    "shift_by_letter(\"B\", \"K\")"
   ]
  },
  {
   "cell_type": "code",
   "execution_count": 11,
   "id": "13eea21e",
   "metadata": {},
   "outputs": [
    {
     "data": {
      "text/plain": [
       "' '"
      ]
     },
     "execution_count": 11,
     "metadata": {},
     "output_type": "execute_result"
    }
   ],
   "source": [
    "shift_by_letter(\" \", _)"
   ]
  },
  {
   "cell_type": "code",
   "execution_count": 15,
   "id": "3502503c",
   "metadata": {},
   "outputs": [],
   "source": [
    "def vigenere_cipher(message, key):\n",
    "    '''Vigenere Cipher.\n",
    "\n",
    "    Encrypts a message using a keyphrase instead of a static number.\n",
    "    Every letter in the message is shifted by the number represented by the\n",
    "        respective letter in the key.\n",
    "    Spaces should be ignored.\n",
    "\n",
    "    Example:\n",
    "    vigenere_cipher(\"A C\", \"KEY\") -> \"K A\"\n",
    "\n",
    "    If needed, the keyphrase is extended to match the length of the key.\n",
    "        If the key is \"KEY\" and the message is \"LONGTEXT\",\n",
    "        the key will be extended to be \"KEYKEYKE\".\n",
    "\n",
    "    Parameters\n",
    "    ----------\n",
    "    message: str\n",
    "        a string of uppercase English letters and spaces.\n",
    "    key: str\n",
    "        a string of uppercase English letters. Will never be longer than the message.\n",
    "        Will never contain spaces.\n",
    "\n",
    "    Returns\n",
    "    -------\n",
    "    str\n",
    "        the message, shifted appropriately.\n",
    "    '''\n",
    "    # Replace `pass` with your code.\n",
    "    # Stay within the function. Only use the parameters as input. The function should return your answer.\n",
    "    \n",
    "    alphabet_string = \"ABCDEFGHIJKLMNOPQRSTUVWXYZ\"\n",
    "    \n",
    "    shifted_message = \"\"\n",
    "    \n",
    "    for i in range(len(message)):\n",
    "        \n",
    "        if message[i] == \" \":\n",
    "            shifted_message += \" \"\n",
    "        \n",
    "        else:\n",
    "            if i < len(key):\n",
    "                shift_by = alphabet_string.index(key[i])\n",
    "            \n",
    "            else:\n",
    "                shift_by = alphabet_string.index(key[i % len(key)])\n",
    "            \n",
    "            new_letter_index = alphabet_string.index(message[i]) + shift_by\n",
    "            \n",
    "            if new_letter_index > 25:\n",
    "                new_letter_index %= 26\n",
    "            \n",
    "            shifted_message += alphabet_string[new_letter_index]\n",
    "    \n",
    "    return shifted_message"
   ]
  },
  {
   "cell_type": "code",
   "execution_count": 16,
   "id": "62f143e8",
   "metadata": {},
   "outputs": [
    {
     "data": {
      "text/plain": [
       "'K A'"
      ]
     },
     "execution_count": 16,
     "metadata": {},
     "output_type": "execute_result"
    }
   ],
   "source": [
    "vigenere_cipher(\"A C\", \"KEY\")"
   ]
  },
  {
   "cell_type": "code",
   "execution_count": 17,
   "id": "26882596",
   "metadata": {},
   "outputs": [
    {
     "data": {
      "text/plain": [
       "'K AK AK A'"
      ]
     },
     "execution_count": 17,
     "metadata": {},
     "output_type": "execute_result"
    }
   ],
   "source": [
    "vigenere_cipher(\"A CA CA C\", \"KEY\")"
   ]
  },
  {
   "cell_type": "code",
   "execution_count": 1,
   "id": "679e6020",
   "metadata": {},
   "outputs": [],
   "source": [
    "def scytale_cipher(message, shift):\n",
    "    '''Scytale Cipher.\n",
    "\n",
    "    Encrypts a message by simulating a scytale cipher.\n",
    "\n",
    "    A scytale is a cylinder around which you can wrap a long strip of\n",
    "        parchment that contained a string of apparent gibberish. The parchment,\n",
    "        when read using the scytale, would reveal a message due to every nth\n",
    "        letter now appearing next to each other, revealing a proper message.\n",
    "    This encryption method is obsolete and should never be used to encrypt\n",
    "        data in production settings.\n",
    "\n",
    "    You may read more about the method here:\n",
    "        https://en.wikipedia.org/wiki/Scytale\n",
    "\n",
    "    You may follow this algorithm to implement a scytale-style cipher:\n",
    "    1. Take a message to be encoded and a \"shift\" number.\n",
    "        For this example, we will use \"INFORMATION_AGE\" as\n",
    "        the message and 3 as the shift.\n",
    "    2. Check if the length of the message is a multiple of\n",
    "        the shift. If it is not, add additional underscores\n",
    "        to the end of the message until it is.\n",
    "        In this example, \"INFORMATION_AGE\" is already a multiple of 3,\n",
    "        so we will leave it alone.\n",
    "    3. This is the tricky part. Construct the encoded message.\n",
    "        For each index i in the encoded message, use the character at the index\n",
    "        (i // shift) + (len(message) // shift) * (i % shift) of the raw message.\n",
    "        If this number doesn't make sense, you can play around with the cipher at\n",
    "         https://dencode.com/en/cipher/scytale to try to understand it.\n",
    "    4. Return the encoded message. In this case,\n",
    "        the output should be \"IMNNA_FTAOIGROE\".\n",
    "\n",
    "    Example:\n",
    "    scytale_cipher(\"INFORMATION_AGE\", 3) -> \"IMNNA_FTAOIGROE\"\n",
    "    scytale_cipher(\"INFORMATION_AGE\", 4) -> \"IRIANMOGFANEOT__\"\n",
    "    scytale_cipher(\"ALGORITHMS_ARE_IMPORTANT\", 8) -> \"AOTSRIOALRH_EMRNGIMA_PTT\"\n",
    "\n",
    "    Parameters\n",
    "    ----------\n",
    "    message: str\n",
    "        a string of uppercase English letters and underscores (underscores represent spaces)\n",
    "    shift: int\n",
    "        a positive int that does not exceed the length of message\n",
    "\n",
    "    Returns\n",
    "    -------\n",
    "    str\n",
    "        the encoded message\n",
    "    '''\n",
    "    # Replace `pass` with your code.\n",
    "    # Stay within the function. Only use the parameters as input. The function should return your answer.\n",
    "    \n",
    "    encoded_message = \"\"\n",
    "    \n",
    "    while len(message) % shift != 0:\n",
    "        message += \"_\"\n",
    "    \n",
    "    for i in range(len(message)):\n",
    "        message_index = (i // shift) + (len(message) // shift) * (i % shift)\n",
    "        encoded_message += message[message_index]\n",
    "        \n",
    "    return encoded_message"
   ]
  },
  {
   "cell_type": "code",
   "execution_count": 2,
   "id": "204d933a",
   "metadata": {},
   "outputs": [
    {
     "data": {
      "text/plain": [
       "'IMNNA_FTAOIGROE'"
      ]
     },
     "execution_count": 2,
     "metadata": {},
     "output_type": "execute_result"
    }
   ],
   "source": [
    "scytale_cipher(\"INFORMATION_AGE\", 3)"
   ]
  },
  {
   "cell_type": "code",
   "execution_count": 3,
   "id": "09967775",
   "metadata": {},
   "outputs": [
    {
     "data": {
      "text/plain": [
       "'IRIANMOGFANEOT__'"
      ]
     },
     "execution_count": 3,
     "metadata": {},
     "output_type": "execute_result"
    }
   ],
   "source": [
    "scytale_cipher(\"INFORMATION_AGE\", 4)"
   ]
  },
  {
   "cell_type": "code",
   "execution_count": 14,
   "id": "5ceb00fc",
   "metadata": {},
   "outputs": [
    {
     "data": {
      "text/plain": [
       "'AOTSRIOALRH_EMRNGIMA_PTT'"
      ]
     },
     "execution_count": 14,
     "metadata": {},
     "output_type": "execute_result"
    }
   ],
   "source": [
    "scytale_cipher(\"ALGORITHMS_ARE_IMPORTANT\", 8)"
   ]
  },
  {
   "cell_type": "code",
   "execution_count": 59,
   "id": "8d3b12a5",
   "metadata": {},
   "outputs": [],
   "source": [
    "def scytale_decipher(message, shift):\n",
    "    '''Scytale De-cipher.\n",
    "\n",
    "    Decrypts a message that was originally encrypted with the `scytale_cipher` function above.\n",
    "\n",
    "    Example:\n",
    "    scytale_decipher(\"IMNNA_FTAOIGROE\", 3) -> \"INFORMATION_AGE\"\n",
    "    scytale_decipher(\"AOTSRIOALRH_EMRNGIMA_PTT\", 8) -> \"ALGORITHMS_ARE_IMPORTANT\"\n",
    "    scytale_decipher(\"IRIANMOGFANEOT__\", 4) -> \"INFORMATION_AGE_\"\n",
    "\n",
    "    There is no further brief for this number.\n",
    "\n",
    "    Parameters\n",
    "    ----------\n",
    "    message: str\n",
    "        a string of uppercase English letters and underscores (underscores represent spaces)\n",
    "    shift: int\n",
    "        a positive int that does not exceed the length of message\n",
    "\n",
    "    Returns\n",
    "    -------\n",
    "    str\n",
    "        the decoded message\n",
    "    '''\n",
    "    # Replace `pass` with your code.\n",
    "    # Stay within the function. Only use the parameters as input. The function should return your answer.\n",
    "    \n",
    "    decoded_message = \"\"\n",
    "    counter = 0\n",
    "    \n",
    "    for i in range(len(message)):\n",
    "        \n",
    "        message_index = (i * shift) // len(message) + shift * (i % (len(message) / shift))\n",
    "            \n",
    "        decoded_message += message[int(message_index)]\n",
    "    \n",
    "    return decoded_message"
   ]
  },
  {
   "cell_type": "code",
   "execution_count": 60,
   "id": "241ed356",
   "metadata": {},
   "outputs": [
    {
     "data": {
      "text/plain": [
       "'INFORMATION_AGE'"
      ]
     },
     "execution_count": 60,
     "metadata": {},
     "output_type": "execute_result"
    }
   ],
   "source": [
    "scytale_decipher(\"IMNNA_FTAOIGROE\", 3)"
   ]
  },
  {
   "cell_type": "code",
   "execution_count": 61,
   "id": "e8848a2d",
   "metadata": {},
   "outputs": [
    {
     "data": {
      "text/plain": [
       "'ALGORITHMS_ARE_IMPORTANT'"
      ]
     },
     "execution_count": 61,
     "metadata": {},
     "output_type": "execute_result"
    }
   ],
   "source": [
    "scytale_decipher(\"AOTSRIOALRH_EMRNGIMA_PTT\", 8)"
   ]
  },
  {
   "cell_type": "code",
   "execution_count": 62,
   "id": "2f4e879d",
   "metadata": {},
   "outputs": [
    {
     "data": {
      "text/plain": [
       "'INFORMATION_AGE_'"
      ]
     },
     "execution_count": 62,
     "metadata": {},
     "output_type": "execute_result"
    }
   ],
   "source": [
    "scytale_decipher(\"IRIANMOGFANEOT__\", 4)"
   ]
  }
 ],
 "metadata": {
  "kernelspec": {
   "display_name": "Python 3",
   "language": "python",
   "name": "python3"
  },
  "language_info": {
   "codemirror_mode": {
    "name": "ipython",
    "version": 3
   },
   "file_extension": ".py",
   "mimetype": "text/x-python",
   "name": "python",
   "nbconvert_exporter": "python",
   "pygments_lexer": "ipython3",
   "version": "3.8.8"
  }
 },
 "nbformat": 4,
 "nbformat_minor": 5
}
